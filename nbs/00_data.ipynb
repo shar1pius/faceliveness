{
 "cells": [
  {
   "cell_type": "markdown",
   "metadata": {},
   "source": [
    "# data\n",
    "\n",
    "> Lets explore the face liveness dataset. \n",
    "\n",
    "- There are two datasets used. [ [video](https://www.kaggle.com/datasets/trainingdatapro/ibeta-level-1-liveness-detection-dataset-part-1), [images](http://parnec.nuaa.edu.cn/_upload/tpl/02/db/731/template731/pages/xtan/NUAAImposterDB_download.html) ]\n",
    "- Data pipleine for loading face images/videos that are live and non-live."
   ]
  },
  {
   "cell_type": "code",
   "execution_count": null,
   "metadata": {},
   "outputs": [],
   "source": [
    "#| default_exp data"
   ]
  },
  {
   "cell_type": "code",
   "execution_count": null,
   "metadata": {},
   "outputs": [],
   "source": [
    "#| hide\n",
    "from nbdev.showdoc import *"
   ]
  },
  {
   "cell_type": "code",
   "execution_count": null,
   "metadata": {},
   "outputs": [],
   "source": [
    "#| hide\n",
    "# import os\n",
    "# import torch\n",
    "# import numpy as np\n",
    "# from PIL import Image\n",
    "# from torchvision import transforms\n",
    "# from random import shuffle\n",
    "# import pandas as pd"
   ]
  },
  {
   "cell_type": "code",
   "execution_count": null,
   "metadata": {},
   "outputs": [],
   "source": [
    "#| export\n",
    "\n",
    "class liveness_dataset():\n",
    "    def __init__(self, \n",
    "                        csvfile: str, # contains image location with labels\n",
    "                        smoothing=True, # smmothing facotr for the loss fn \n",
    "                        transform=None # image transforms\n",
    "                        ):\n",
    "        self.data = pd.read_csv(csvfile)\n",
    "        self.transform = transform\n",
    "        self.label_weight = 0.99 if smoothing else 1.0\n",
    "\n",
    "    def dataset(self):\n",
    "        images = []\n",
    "        labels = []\n",
    "\n",
    "        for index in self.data.index:\n",
    "            img_name = self.data.iloc[index]['name']\n",
    "            # load image\n",
    "            img = Image.open(img_name)\n",
    "\n",
    "            # load label\n",
    "            label = self.data.iloc[index]['label']\n",
    "\n",
    "            if self.transform:\n",
    "                img = self.transform(img)\n",
    "\n",
    "            images.append(img)\n",
    "            labels.append(label)\n",
    "\n",
    "        labels = np.array(labels, dtype=np.float32)\n",
    "\n",
    "        dataset = [[images[i], labels[i]] for i in range(len(images))]\n",
    "        return dataset"
   ]
  },
  {
   "cell_type": "code",
   "execution_count": null,
   "metadata": {},
   "outputs": [
    {
     "data": {
      "text/markdown": [
       "---\n",
       "\n",
       "### liveness_dataset\n",
       "\n",
       ">      liveness_dataset (csvfile:str, smoothing=True, transform=None)\n",
       "\n",
       "Initialize self.  See help(type(self)) for accurate signature.\n",
       "\n",
       "|    | **Type** | **Default** | **Details** |\n",
       "| -- | -------- | ----------- | ----------- |\n",
       "| csvfile | str |  | contains image location with labels |\n",
       "| smoothing | bool | True | smmothing facotr for the loss fn |\n",
       "| transform | NoneType | None | image transforms |"
      ],
      "text/plain": [
       "---\n",
       "\n",
       "### liveness_dataset\n",
       "\n",
       ">      liveness_dataset (csvfile:str, smoothing=True, transform=None)\n",
       "\n",
       "Initialize self.  See help(type(self)) for accurate signature.\n",
       "\n",
       "|    | **Type** | **Default** | **Details** |\n",
       "| -- | -------- | ----------- | ----------- |\n",
       "| csvfile | str |  | contains image location with labels |\n",
       "| smoothing | bool | True | smmothing facotr for the loss fn |\n",
       "| transform | NoneType | None | image transforms |"
      ]
     },
     "execution_count": null,
     "metadata": {},
     "output_type": "execute_result"
    }
   ],
   "source": [
    "show_doc(liveness_dataset)"
   ]
  },
  {
   "cell_type": "code",
   "execution_count": null,
   "metadata": {},
   "outputs": [],
   "source": [
    "#| hide\n",
    "import nbdev; nbdev.nbdev_export()"
   ]
  }
 ],
 "metadata": {
  "kernelspec": {
   "display_name": "conda-env-liveness-py",
   "language": "python",
   "name": "conda-env-liveness-py"
  }
 },
 "nbformat": 4,
 "nbformat_minor": 4
}
